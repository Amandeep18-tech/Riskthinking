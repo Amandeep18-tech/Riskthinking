{
  "nbformat": 4,
  "nbformat_minor": 0,
  "metadata": {
    "colab": {
      "provenance": []
    },
    "kernelspec": {
      "name": "python3",
      "display_name": "Python 3"
    },
    "language_info": {
      "name": "python"
    }
  },
  "cells": [
    {
      "cell_type": "code",
      "execution_count": null,
      "metadata": {
        "colab": {
          "base_uri": "https://localhost:8080/"
        },
        "id": "scrxGkFJ515s",
        "outputId": "c4ba7127-690e-46f9-83bf-101de83e5714"
      },
      "outputs": [
        {
          "output_type": "stream",
          "name": "stdout",
          "text": [
            "5112\n"
          ]
        }
      ],
      "source": [
        "import requests\n",
        "\n",
        "# API endpoint URL from EC2 instance\n",
        "response = requests.get('http://52.23.57.206/predict',params = {\n",
        "    \"vol_moving_avg\": \"12345\",\n",
        "    \"adj_close_rolling_med\": \"25\"\n",
        "})\n",
        "\n",
        "\n",
        "print(response.json())"
      ]
    }
  ]
}